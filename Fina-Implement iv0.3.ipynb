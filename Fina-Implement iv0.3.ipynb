{
 "cells": [
  {
   "cell_type": "code",
   "execution_count": 1,
   "metadata": {},
   "outputs": [],
   "source": [
    "import numpy as np # linear algebra\n",
    "import pandas as pd # data processing, CSV file I/O (e.g. pd.read_csv)\n",
    "import os\n",
    "os.chdir(\"C:\\\\Users\\\\MANDY\\\\Desktop\\\\fina\")"
   ]
  },
  {
   "cell_type": "code",
   "execution_count": 2,
   "metadata": {},
   "outputs": [],
   "source": [
    "df1 = pd.read_csv(\"iv3.csv\")"
   ]
  },
  {
   "cell_type": "code",
   "execution_count": 3,
   "metadata": {},
   "outputs": [
    {
     "name": "stdout",
     "output_type": "stream",
     "text": [
      "<class 'pandas.core.frame.DataFrame'>\n",
      "RangeIndex: 31 entries, 0 to 30\n",
      "Data columns (total 2 columns):\n",
      "Variable    31 non-null object\n",
      "IV          31 non-null float64\n",
      "dtypes: float64(1), object(1)\n",
      "memory usage: 624.0+ bytes\n"
     ]
    }
   ],
   "source": [
    "df1.info()"
   ]
  },
  {
   "cell_type": "code",
   "execution_count": 4,
   "metadata": {},
   "outputs": [
    {
     "data": {
      "text/plain": [
       "<bound method NDFrame.describe of                                              Variable        IV\n",
       "0                                        EXT_SOURCE_3  0.374047\n",
       "1                                        EXT_SOURCE_2  0.281281\n",
       "2                                         DAYS_CREDIT  0.133829\n",
       "3                                       DAYS_EMPLOYED  0.104740\n",
       "4                                  DAYS_CREDIT_UPDATE  0.100323\n",
       "5                                    AMT_GOODS_PRICE1  0.097433\n",
       "6                                          DAYS_BIRTH  0.089701\n",
       "7                                 DAYS_CREDIT_ENDDATE  0.080745\n",
       "8                                 AMT_CREDIT_SUM_DEBT  0.060214\n",
       "9                        NAME_CONTRACT_STATUS_Refused  0.048447\n",
       "10                             DAYS_LAST_PHONE_CHANGE  0.046832\n",
       "11                                        AMT_CREDIT1  0.046763\n",
       "12                        REGION_RATING_CLIENT_W_CITY  0.046563\n",
       "13                               CREDIT_ACTIVE_Active  0.043769\n",
       "14                               REGION_RATING_CLIENT  0.043275\n",
       "15                           NAME_INCOME_TYPE_Working  0.042376\n",
       "16               NAME_EDUCATION_TYPE_Higher education  0.041819\n",
       "17                                      DAYS_DECISION  0.039190\n",
       "18                                 DAYS_ENTRY_PAYMENT  0.037668\n",
       "19                                      CODE_GENDER_M  0.037566\n",
       "20                                      CODE_GENDER_F  0.037552\n",
       "21                                    DAYS_ID_PUBLISH  0.037446\n",
       "22                                    DAYS_INSTALMENT  0.036598\n",
       "23                               AMT_CREDIT_SUM_LIMIT  0.035078\n",
       "24                         NAME_INCOME_TYPE_Pensioner  0.034944\n",
       "25                              ORGANIZATION_TYPE_XNA  0.034910\n",
       "26                                     FLAG_EMP_PHONE  0.034875\n",
       "27                          NAME_PRODUCT_TYPE_walk-in  0.033932\n",
       "28                         REGION_POPULATION_RELATIVE  0.032331\n",
       "29                             REG_CITY_NOT_WORK_CITY  0.031511\n",
       "30  NAME_EDUCATION_TYPE_Secondary / secondary special  0.030779>"
      ]
     },
     "execution_count": 4,
     "metadata": {},
     "output_type": "execute_result"
    }
   ],
   "source": [
    "df1.describe"
   ]
  },
  {
   "cell_type": "code",
   "execution_count": 5,
   "metadata": {},
   "outputs": [],
   "source": [
    "df2 = pd.read_csv(\"merged_train_inner.csv\")"
   ]
  },
  {
   "cell_type": "code",
   "execution_count": 6,
   "metadata": {},
   "outputs": [],
   "source": [
    "df3=pd.DataFrame()"
   ]
  },
  {
   "cell_type": "code",
   "execution_count": 7,
   "metadata": {},
   "outputs": [],
   "source": [
    "for i in range(0,df1.shape[0]):\n",
    "    df3[df1.loc[i,'Variable']]=df2.loc[:,df1.loc[i,'Variable']]"
   ]
  },
  {
   "cell_type": "code",
   "execution_count": 8,
   "metadata": {},
   "outputs": [
    {
     "name": "stdout",
     "output_type": "stream",
     "text": [
      "<class 'pandas.core.frame.DataFrame'>\n",
      "RangeIndex: 247032 entries, 0 to 247031\n",
      "Data columns (total 31 columns):\n",
      "EXT_SOURCE_3                                         247032 non-null float64\n",
      "EXT_SOURCE_2                                         247032 non-null float64\n",
      "DAYS_CREDIT                                          247032 non-null float64\n",
      "DAYS_EMPLOYED                                        247032 non-null int64\n",
      "DAYS_CREDIT_UPDATE                                   247032 non-null float64\n",
      "AMT_GOODS_PRICE1                                     247032 non-null float64\n",
      "DAYS_BIRTH                                           247032 non-null int64\n",
      "DAYS_CREDIT_ENDDATE                                  247032 non-null float64\n",
      "AMT_CREDIT_SUM_DEBT                                  247032 non-null float64\n",
      "NAME_CONTRACT_STATUS_Refused                         247032 non-null int64\n",
      "DAYS_LAST_PHONE_CHANGE                               247032 non-null float64\n",
      "AMT_CREDIT1                                          247032 non-null float64\n",
      "REGION_RATING_CLIENT_W_CITY                          247032 non-null int64\n",
      "CREDIT_ACTIVE_Active                                 247032 non-null int64\n",
      "REGION_RATING_CLIENT                                 247032 non-null int64\n",
      "NAME_INCOME_TYPE_Working                             247032 non-null int64\n",
      "NAME_EDUCATION_TYPE_Higher education                 247032 non-null int64\n",
      "DAYS_DECISION                                        247032 non-null float64\n",
      "DAYS_ENTRY_PAYMENT                                   247032 non-null float64\n",
      "CODE_GENDER_M                                        247032 non-null int64\n",
      "CODE_GENDER_F                                        247032 non-null int64\n",
      "DAYS_ID_PUBLISH                                      247032 non-null int64\n",
      "DAYS_INSTALMENT                                      247032 non-null float64\n",
      "AMT_CREDIT_SUM_LIMIT                                 247032 non-null float64\n",
      "NAME_INCOME_TYPE_Pensioner                           247032 non-null int64\n",
      "ORGANIZATION_TYPE_XNA                                247032 non-null int64\n",
      "FLAG_EMP_PHONE                                       247032 non-null int64\n",
      "NAME_PRODUCT_TYPE_walk-in                            247032 non-null int64\n",
      "REGION_POPULATION_RELATIVE                           247032 non-null float64\n",
      "REG_CITY_NOT_WORK_CITY                               247032 non-null int64\n",
      "NAME_EDUCATION_TYPE_Secondary / secondary special    247032 non-null int64\n",
      "dtypes: float64(14), int64(17)\n",
      "memory usage: 58.4 MB\n"
     ]
    }
   ],
   "source": [
    "df3.info()"
   ]
  },
  {
   "cell_type": "code",
   "execution_count": 9,
   "metadata": {},
   "outputs": [],
   "source": [
    "from sklearn.linear_model import LogisticRegression\n",
    "from sklearn.model_selection import train_test_split\n",
    "from sklearn.metrics import make_scorer\n",
    "from sklearn.metrics import confusion_matrix, precision_recall_curve, roc_curve, auc, log_loss\n",
    "from sklearn.metrics import roc_auc_score"
   ]
  },
  {
   "cell_type": "code",
   "execution_count": 10,
   "metadata": {},
   "outputs": [],
   "source": [
    "df3['TARGET']=df2.TARGET"
   ]
  },
  {
   "cell_type": "code",
   "execution_count": 11,
   "metadata": {},
   "outputs": [
    {
     "name": "stdout",
     "output_type": "stream",
     "text": [
      "X Training shape (197625, 31)\n",
      "X Testing shape (49407, 31)\n",
      "Y Training shape (197625,)\n",
      "Y Testing shape (49407,)\n"
     ]
    }
   ],
   "source": [
    "X_train, X_test, Y_train, Y_test = train_test_split(df3.drop(columns='TARGET'), df3['TARGET'], test_size = 0.2, random_state = 200)\n",
    "print(\"X Training shape\", X_train.shape)\n",
    "print(\"X Testing shape\", X_test.shape)\n",
    "print(\"Y Training shape\", Y_train.shape)\n",
    "print(\"Y Testing shape\", Y_test.shape)"
   ]
  },
  {
   "cell_type": "code",
   "execution_count": 12,
   "metadata": {},
   "outputs": [
    {
     "name": "stderr",
     "output_type": "stream",
     "text": [
      "C:\\Users\\MANDY\\Anaconda3\\lib\\site-packages\\sklearn\\linear_model\\logistic.py:432: FutureWarning: Default solver will be changed to 'lbfgs' in 0.22. Specify a solver to silence this warning.\n",
      "  FutureWarning)\n"
     ]
    },
    {
     "name": "stdout",
     "output_type": "stream",
     "text": [
      "Train/Test split results:\n",
      "ROC 0.6414521185710739\n"
     ]
    }
   ],
   "source": [
    "logreg = LogisticRegression(random_state=0, class_weight='balanced', C=100)\n",
    "logreg.fit(X_train, Y_train)\n",
    "Y_pred = logreg.predict(X_test)\n",
    "\n",
    "#Y_pred_proba = logreg.predict_proba(X_test)\n",
    "\n",
    "print('Train/Test split results:')\n",
    "#print(logreg.__class__.__name__+\" accuracy is %2.3f\" % accuracy_score(Y_test, Y_pred))\n",
    "print(\"ROC\",  roc_auc_score(Y_test, Y_pred))"
   ]
  },
  {
   "cell_type": "code",
   "execution_count": null,
   "metadata": {},
   "outputs": [],
   "source": []
  }
 ],
 "metadata": {
  "kernelspec": {
   "display_name": "Python 3",
   "language": "python",
   "name": "python3"
  },
  "language_info": {
   "codemirror_mode": {
    "name": "ipython",
    "version": 3
   },
   "file_extension": ".py",
   "mimetype": "text/x-python",
   "name": "python",
   "nbconvert_exporter": "python",
   "pygments_lexer": "ipython3",
   "version": "3.7.4"
  }
 },
 "nbformat": 4,
 "nbformat_minor": 2
}
