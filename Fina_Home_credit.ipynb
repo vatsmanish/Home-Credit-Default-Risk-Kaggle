{
 "cells": [
  {
   "cell_type": "code",
   "execution_count": 1,
   "metadata": {},
   "outputs": [],
   "source": [
    "import numpy as np # linear algebra\n",
    "import pandas as pd # data processing, CSV file I/O (e.g. pd.read_csv)\n",
    "import os\n",
    "os.chdir(\"C:\\\\Users\\\\MANDY\\\\Desktop\\\\fina\")"
   ]
  },
  {
   "cell_type": "code",
   "execution_count": 6,
   "metadata": {},
   "outputs": [],
   "source": [
    "data = pd.read_csv(\"iv2.csv\")"
   ]
  },
  {
   "cell_type": "code",
   "execution_count": 3,
   "metadata": {},
   "outputs": [
    {
     "data": {
      "text/plain": [
       "Index(['Variable', 'IV'], dtype='object')"
      ]
     },
     "execution_count": 3,
     "metadata": {},
     "output_type": "execute_result"
    }
   ],
   "source": [
    "df1.columns"
   ]
  },
  {
   "cell_type": "code",
   "execution_count": 4,
   "metadata": {},
   "outputs": [
    {
     "data": {
      "text/plain": [
       "<bound method DataFrame.nunique of                                              Variable        IV\n",
       "0                                        EXT_SOURCE_3  0.374047\n",
       "1                                        EXT_SOURCE_2  0.281281\n",
       "2                                         DAYS_CREDIT  0.133829\n",
       "3                                       DAYS_EMPLOYED  0.104740\n",
       "4                                  DAYS_CREDIT_UPDATE  0.100323\n",
       "5                                    AMT_GOODS_PRICE1  0.097433\n",
       "6                                          DAYS_BIRTH  0.089701\n",
       "7                                 DAYS_CREDIT_ENDDATE  0.080745\n",
       "8                                 AMT_CREDIT_SUM_DEBT  0.060214\n",
       "9                        NAME_CONTRACT_STATUS_Refused  0.048447\n",
       "10                             DAYS_LAST_PHONE_CHANGE  0.046832\n",
       "11                                        AMT_CREDIT1  0.046763\n",
       "12                        REGION_RATING_CLIENT_W_CITY  0.046563\n",
       "13                               CREDIT_ACTIVE_Active  0.043769\n",
       "14                               REGION_RATING_CLIENT  0.043275\n",
       "15                           NAME_INCOME_TYPE_Working  0.042376\n",
       "16               NAME_EDUCATION_TYPE_Higher education  0.041819\n",
       "17                                      DAYS_DECISION  0.039190\n",
       "18                                 DAYS_ENTRY_PAYMENT  0.037668\n",
       "19                                      CODE_GENDER_M  0.037566\n",
       "20                                      CODE_GENDER_F  0.037552\n",
       "21                                    DAYS_ID_PUBLISH  0.037446\n",
       "22                                    DAYS_INSTALMENT  0.036598\n",
       "23                               AMT_CREDIT_SUM_LIMIT  0.035078\n",
       "24                         NAME_INCOME_TYPE_Pensioner  0.034944\n",
       "25                              ORGANIZATION_TYPE_XNA  0.034910\n",
       "26                                     FLAG_EMP_PHONE  0.034875\n",
       "27                          NAME_PRODUCT_TYPE_walk-in  0.033932\n",
       "28                         REGION_POPULATION_RELATIVE  0.032331\n",
       "29                             REG_CITY_NOT_WORK_CITY  0.031511\n",
       "30  NAME_EDUCATION_TYPE_Secondary / secondary special  0.030779\n",
       "31                               CREDIT_ACTIVE_Closed  0.029418\n",
       "32                                       AMT_ANNUITY1  0.028999\n",
       "33                                  DAYS_REGISTRATION  0.028669\n",
       "34                                    FLAG_DOCUMENT_3  0.027177\n",
       "35                               NAME_YIELD_GROUP_XNA  0.025519\n",
       "36                              CODE_REJECT_REASON_HC  0.025215\n",
       "37                                    MONTHS_BALANCE2  0.024923\n",
       "38                        NAME_CONTRACT_STATUS_Active  0.023222\n",
       "39                NAME_CONTRACT_TYPE_Revolving loans2  0.022600\n",
       "40                              NAME_PAYMENT_TYPE_XNA  0.022502\n",
       "41                             REG_CITY_NOT_LIVE_CITY  0.022009\n",
       "42                    PRODUCT_COMBINATION_Card Street  0.021668>"
      ]
     },
     "execution_count": 4,
     "metadata": {},
     "output_type": "execute_result"
    }
   ],
   "source": [
    "df1.nunique"
   ]
  },
  {
   "cell_type": "code",
   "execution_count": 6,
   "metadata": {},
   "outputs": [],
   "source": [
    "df2 = pd.read_csv(\"merged_train_inner.csv\")"
   ]
  },
  {
   "cell_type": "code",
   "execution_count": 7,
   "metadata": {},
   "outputs": [],
   "source": [
    "df3=pd.DataFrame()"
   ]
  },
  {
   "cell_type": "code",
   "execution_count": 8,
   "metadata": {},
   "outputs": [],
   "source": [
    "for i in range(0,df1.shape[0]):\n",
    "    df3[df1.loc[i,'Variable']]=df2.loc[:,df1.loc[i,'Variable']]"
   ]
  },
  {
   "cell_type": "code",
   "execution_count": 17,
   "metadata": {},
   "outputs": [
    {
     "data": {
      "text/plain": [
       "Index(['Variable', 'IV'], dtype='object')"
      ]
     },
     "execution_count": 17,
     "metadata": {},
     "output_type": "execute_result"
    }
   ],
   "source": [
    "df1.columns"
   ]
  },
  {
   "cell_type": "code",
   "execution_count": 23,
   "metadata": {},
   "outputs": [
    {
     "data": {
      "text/html": [
       "<div>\n",
       "<style scoped>\n",
       "    .dataframe tbody tr th:only-of-type {\n",
       "        vertical-align: middle;\n",
       "    }\n",
       "\n",
       "    .dataframe tbody tr th {\n",
       "        vertical-align: top;\n",
       "    }\n",
       "\n",
       "    .dataframe thead th {\n",
       "        text-align: right;\n",
       "    }\n",
       "</style>\n",
       "<table border=\"1\" class=\"dataframe\">\n",
       "  <thead>\n",
       "    <tr style=\"text-align: right;\">\n",
       "      <th></th>\n",
       "      <th>EXT_SOURCE_3</th>\n",
       "      <th>EXT_SOURCE_2</th>\n",
       "      <th>DAYS_CREDIT</th>\n",
       "      <th>DAYS_EMPLOYED</th>\n",
       "      <th>DAYS_CREDIT_UPDATE</th>\n",
       "      <th>AMT_GOODS_PRICE1</th>\n",
       "      <th>DAYS_BIRTH</th>\n",
       "      <th>DAYS_CREDIT_ENDDATE</th>\n",
       "      <th>AMT_CREDIT_SUM_DEBT</th>\n",
       "      <th>NAME_CONTRACT_STATUS_Refused</th>\n",
       "      <th>...</th>\n",
       "      <th>DAYS_REGISTRATION</th>\n",
       "      <th>FLAG_DOCUMENT_3</th>\n",
       "      <th>NAME_YIELD_GROUP_XNA</th>\n",
       "      <th>CODE_REJECT_REASON_HC</th>\n",
       "      <th>MONTHS_BALANCE2</th>\n",
       "      <th>NAME_CONTRACT_STATUS_Active</th>\n",
       "      <th>NAME_CONTRACT_TYPE_Revolving loans2</th>\n",
       "      <th>NAME_PAYMENT_TYPE_XNA</th>\n",
       "      <th>REG_CITY_NOT_LIVE_CITY</th>\n",
       "      <th>PRODUCT_COMBINATION_Card Street</th>\n",
       "    </tr>\n",
       "  </thead>\n",
       "  <tbody>\n",
       "    <tr>\n",
       "      <td>0</td>\n",
       "      <td>0.139376</td>\n",
       "      <td>0.262949</td>\n",
       "      <td>-874.000000</td>\n",
       "      <td>-637</td>\n",
       "      <td>-499.875</td>\n",
       "      <td>351000.0</td>\n",
       "      <td>-9461</td>\n",
       "      <td>-277.750000</td>\n",
       "      <td>30722.625</td>\n",
       "      <td>0</td>\n",
       "      <td>...</td>\n",
       "      <td>-3648.0</td>\n",
       "      <td>1</td>\n",
       "      <td>0</td>\n",
       "      <td>0</td>\n",
       "      <td>-10.000000</td>\n",
       "      <td>19.0</td>\n",
       "      <td>0</td>\n",
       "      <td>1</td>\n",
       "      <td>0</td>\n",
       "      <td>0</td>\n",
       "    </tr>\n",
       "    <tr>\n",
       "      <td>1</td>\n",
       "      <td>0.535276</td>\n",
       "      <td>0.622246</td>\n",
       "      <td>-1400.750000</td>\n",
       "      <td>-1188</td>\n",
       "      <td>-816.000</td>\n",
       "      <td>1129500.0</td>\n",
       "      <td>-16765</td>\n",
       "      <td>-544.500000</td>\n",
       "      <td>0.000</td>\n",
       "      <td>0</td>\n",
       "      <td>...</td>\n",
       "      <td>-1186.0</td>\n",
       "      <td>1</td>\n",
       "      <td>0</td>\n",
       "      <td>0</td>\n",
       "      <td>-43.785714</td>\n",
       "      <td>26.0</td>\n",
       "      <td>0</td>\n",
       "      <td>1</td>\n",
       "      <td>0</td>\n",
       "      <td>0</td>\n",
       "    </tr>\n",
       "    <tr>\n",
       "      <td>2</td>\n",
       "      <td>0.729567</td>\n",
       "      <td>0.555912</td>\n",
       "      <td>-867.000000</td>\n",
       "      <td>-225</td>\n",
       "      <td>-532.000</td>\n",
       "      <td>135000.0</td>\n",
       "      <td>-19046</td>\n",
       "      <td>-488.500000</td>\n",
       "      <td>0.000</td>\n",
       "      <td>0</td>\n",
       "      <td>...</td>\n",
       "      <td>-4260.0</td>\n",
       "      <td>0</td>\n",
       "      <td>0</td>\n",
       "      <td>0</td>\n",
       "      <td>-25.500000</td>\n",
       "      <td>3.0</td>\n",
       "      <td>0</td>\n",
       "      <td>0</td>\n",
       "      <td>0</td>\n",
       "      <td>0</td>\n",
       "    </tr>\n",
       "    <tr>\n",
       "      <td>3</td>\n",
       "      <td>0.535276</td>\n",
       "      <td>0.322738</td>\n",
       "      <td>-1149.000000</td>\n",
       "      <td>-3038</td>\n",
       "      <td>-783.000</td>\n",
       "      <td>513000.0</td>\n",
       "      <td>-19932</td>\n",
       "      <td>-783.000000</td>\n",
       "      <td>0.000</td>\n",
       "      <td>0</td>\n",
       "      <td>...</td>\n",
       "      <td>-4311.0</td>\n",
       "      <td>0</td>\n",
       "      <td>0</td>\n",
       "      <td>0</td>\n",
       "      <td>-33.636364</td>\n",
       "      <td>62.0</td>\n",
       "      <td>0</td>\n",
       "      <td>1</td>\n",
       "      <td>0</td>\n",
       "      <td>0</td>\n",
       "    </tr>\n",
       "    <tr>\n",
       "      <td>4</td>\n",
       "      <td>0.621226</td>\n",
       "      <td>0.354225</td>\n",
       "      <td>-757.333333</td>\n",
       "      <td>-1588</td>\n",
       "      <td>-611.000</td>\n",
       "      <td>454500.0</td>\n",
       "      <td>-16941</td>\n",
       "      <td>-391.333333</td>\n",
       "      <td>80019.000</td>\n",
       "      <td>0</td>\n",
       "      <td>...</td>\n",
       "      <td>-4970.0</td>\n",
       "      <td>1</td>\n",
       "      <td>1</td>\n",
       "      <td>0</td>\n",
       "      <td>-43.662651</td>\n",
       "      <td>78.0</td>\n",
       "      <td>0</td>\n",
       "      <td>1</td>\n",
       "      <td>0</td>\n",
       "      <td>0</td>\n",
       "    </tr>\n",
       "  </tbody>\n",
       "</table>\n",
       "<p>5 rows × 43 columns</p>\n",
       "</div>"
      ],
      "text/plain": [
       "   EXT_SOURCE_3  EXT_SOURCE_2  DAYS_CREDIT  DAYS_EMPLOYED  DAYS_CREDIT_UPDATE  \\\n",
       "0      0.139376      0.262949  -874.000000           -637            -499.875   \n",
       "1      0.535276      0.622246 -1400.750000          -1188            -816.000   \n",
       "2      0.729567      0.555912  -867.000000           -225            -532.000   \n",
       "3      0.535276      0.322738 -1149.000000          -3038            -783.000   \n",
       "4      0.621226      0.354225  -757.333333          -1588            -611.000   \n",
       "\n",
       "   AMT_GOODS_PRICE1  DAYS_BIRTH  DAYS_CREDIT_ENDDATE  AMT_CREDIT_SUM_DEBT  \\\n",
       "0          351000.0       -9461          -277.750000            30722.625   \n",
       "1         1129500.0      -16765          -544.500000                0.000   \n",
       "2          135000.0      -19046          -488.500000                0.000   \n",
       "3          513000.0      -19932          -783.000000                0.000   \n",
       "4          454500.0      -16941          -391.333333            80019.000   \n",
       "\n",
       "   NAME_CONTRACT_STATUS_Refused  ...  DAYS_REGISTRATION  FLAG_DOCUMENT_3  \\\n",
       "0                             0  ...            -3648.0                1   \n",
       "1                             0  ...            -1186.0                1   \n",
       "2                             0  ...            -4260.0                0   \n",
       "3                             0  ...            -4311.0                0   \n",
       "4                             0  ...            -4970.0                1   \n",
       "\n",
       "   NAME_YIELD_GROUP_XNA  CODE_REJECT_REASON_HC  MONTHS_BALANCE2  \\\n",
       "0                     0                      0       -10.000000   \n",
       "1                     0                      0       -43.785714   \n",
       "2                     0                      0       -25.500000   \n",
       "3                     0                      0       -33.636364   \n",
       "4                     1                      0       -43.662651   \n",
       "\n",
       "   NAME_CONTRACT_STATUS_Active  NAME_CONTRACT_TYPE_Revolving loans2  \\\n",
       "0                         19.0                                    0   \n",
       "1                         26.0                                    0   \n",
       "2                          3.0                                    0   \n",
       "3                         62.0                                    0   \n",
       "4                         78.0                                    0   \n",
       "\n",
       "   NAME_PAYMENT_TYPE_XNA  REG_CITY_NOT_LIVE_CITY  \\\n",
       "0                      1                       0   \n",
       "1                      1                       0   \n",
       "2                      0                       0   \n",
       "3                      1                       0   \n",
       "4                      1                       0   \n",
       "\n",
       "   PRODUCT_COMBINATION_Card Street  \n",
       "0                                0  \n",
       "1                                0  \n",
       "2                                0  \n",
       "3                                0  \n",
       "4                                0  \n",
       "\n",
       "[5 rows x 43 columns]"
      ]
     },
     "execution_count": 23,
     "metadata": {},
     "output_type": "execute_result"
    }
   ],
   "source": [
    "df3.head()"
   ]
  },
  {
   "cell_type": "code",
   "execution_count": 24,
   "metadata": {},
   "outputs": [
    {
     "name": "stdout",
     "output_type": "stream",
     "text": [
      "<class 'pandas.core.frame.DataFrame'>\n",
      "RangeIndex: 247032 entries, 0 to 247031\n",
      "Data columns (total 43 columns):\n",
      "EXT_SOURCE_3                                         247032 non-null float64\n",
      "EXT_SOURCE_2                                         247032 non-null float64\n",
      "DAYS_CREDIT                                          247032 non-null float64\n",
      "DAYS_EMPLOYED                                        247032 non-null int64\n",
      "DAYS_CREDIT_UPDATE                                   247032 non-null float64\n",
      "AMT_GOODS_PRICE1                                     247032 non-null float64\n",
      "DAYS_BIRTH                                           247032 non-null int64\n",
      "DAYS_CREDIT_ENDDATE                                  247032 non-null float64\n",
      "AMT_CREDIT_SUM_DEBT                                  247032 non-null float64\n",
      "NAME_CONTRACT_STATUS_Refused                         247032 non-null int64\n",
      "DAYS_LAST_PHONE_CHANGE                               247032 non-null float64\n",
      "AMT_CREDIT1                                          247032 non-null float64\n",
      "REGION_RATING_CLIENT_W_CITY                          247032 non-null int64\n",
      "CREDIT_ACTIVE_Active                                 247032 non-null int64\n",
      "REGION_RATING_CLIENT                                 247032 non-null int64\n",
      "NAME_INCOME_TYPE_Working                             247032 non-null int64\n",
      "NAME_EDUCATION_TYPE_Higher education                 247032 non-null int64\n",
      "DAYS_DECISION                                        247032 non-null float64\n",
      "DAYS_ENTRY_PAYMENT                                   247032 non-null float64\n",
      "CODE_GENDER_M                                        247032 non-null int64\n",
      "CODE_GENDER_F                                        247032 non-null int64\n",
      "DAYS_ID_PUBLISH                                      247032 non-null int64\n",
      "DAYS_INSTALMENT                                      247032 non-null float64\n",
      "AMT_CREDIT_SUM_LIMIT                                 247032 non-null float64\n",
      "NAME_INCOME_TYPE_Pensioner                           247032 non-null int64\n",
      "ORGANIZATION_TYPE_XNA                                247032 non-null int64\n",
      "FLAG_EMP_PHONE                                       247032 non-null int64\n",
      "NAME_PRODUCT_TYPE_walk-in                            247032 non-null int64\n",
      "REGION_POPULATION_RELATIVE                           247032 non-null float64\n",
      "REG_CITY_NOT_WORK_CITY                               247032 non-null int64\n",
      "NAME_EDUCATION_TYPE_Secondary / secondary special    247032 non-null int64\n",
      "CREDIT_ACTIVE_Closed                                 247032 non-null int64\n",
      "AMT_ANNUITY1                                         247032 non-null float64\n",
      "DAYS_REGISTRATION                                    247032 non-null float64\n",
      "FLAG_DOCUMENT_3                                      247032 non-null int64\n",
      "NAME_YIELD_GROUP_XNA                                 247032 non-null int64\n",
      "CODE_REJECT_REASON_HC                                247032 non-null int64\n",
      "MONTHS_BALANCE2                                      247032 non-null float64\n",
      "NAME_CONTRACT_STATUS_Active                          247032 non-null float64\n",
      "NAME_CONTRACT_TYPE_Revolving loans2                  247032 non-null int64\n",
      "NAME_PAYMENT_TYPE_XNA                                247032 non-null int64\n",
      "REG_CITY_NOT_LIVE_CITY                               247032 non-null int64\n",
      "PRODUCT_COMBINATION_Card Street                      247032 non-null int64\n",
      "dtypes: float64(18), int64(25)\n",
      "memory usage: 81.0 MB\n"
     ]
    }
   ],
   "source": [
    "df3.info()"
   ]
  },
  {
   "cell_type": "code",
   "execution_count": 26,
   "metadata": {},
   "outputs": [],
   "source": [
    "from sklearn.linear_model import LogisticRegression\n",
    "from sklearn.model_selection import train_test_split\n",
    "from sklearn.metrics import make_scorer\n",
    "from sklearn.metrics import confusion_matrix, precision_recall_curve, roc_curve, auc, log_loss\n",
    "from sklearn.metrics import roc_auc_score\n",
    "from sklearn.metrics import accuracy_score"
   ]
  },
  {
   "cell_type": "code",
   "execution_count": 10,
   "metadata": {},
   "outputs": [],
   "source": [
    "df3['TARGET']=df2.TARGET"
   ]
  },
  {
   "cell_type": "code",
   "execution_count": 65,
   "metadata": {},
   "outputs": [
    {
     "name": "stdout",
     "output_type": "stream",
     "text": [
      "X Training shape (185274, 43)\n",
      "X Testing shape (61758, 43)\n",
      "Y Training shape (185274,)\n",
      "Y Testing shape (61758,)\n"
     ]
    }
   ],
   "source": [
    "X_train, X_test, Y_train, Y_test = train_test_split(df3.drop(columns='TARGET'), df3['TARGET'], test_size = 0.25, random_state = 100)\n",
    "print(\"X Training shape\", X_train.shape)\n",
    "print(\"X Testing shape\", X_test.shape)\n",
    "print(\"Y Training shape\", Y_train.shape)\n",
    "print(\"Y Testing shape\", Y_test.shape)"
   ]
  },
  {
   "cell_type": "code",
   "execution_count": 56,
   "metadata": {},
   "outputs": [
    {
     "name": "stdout",
     "output_type": "stream",
     "text": [
      "Train/Test split results:\n",
      "ROC 0.5822417679263228\n"
     ]
    },
    {
     "name": "stderr",
     "output_type": "stream",
     "text": [
      "C:\\Users\\MANDY\\Anaconda3\\lib\\site-packages\\sklearn\\linear_model\\_logistic.py:940: ConvergenceWarning: lbfgs failed to converge (status=1):\n",
      "STOP: TOTAL NO. of ITERATIONS REACHED LIMIT.\n",
      "\n",
      "Increase the number of iterations (max_iter) or scale the data as shown in:\n",
      "    https://scikit-learn.org/stable/modules/preprocessing.html\n",
      "Please also refer to the documentation for alternative solver options:\n",
      "    https://scikit-learn.org/stable/modules/linear_model.html#logistic-regression\n",
      "  extra_warning_msg=_LOGISTIC_SOLVER_CONVERGENCE_MSG)\n"
     ]
    }
   ],
   "source": [
    "logreg = LogisticRegression(random_state=0, class_weight='balanced', C=10)\n",
    "logreg.fit(X_train, Y_train)\n",
    "Y_pred = logreg.predict(X_test)\n",
    "\n",
    "#Y_pred_proba = logreg.predict_proba(X_test)\n",
    "\n",
    "print('Train/Test split results:')\n",
    "#print(logreg.__class__.__name__+\" accuracy is %2.3f\" % accuracy_score(Y_test, Y_pred))\n",
    "print(\"ROC\",  roc_auc_score(Y_test, Y_pred))"
   ]
  },
  {
   "cell_type": "code",
   "execution_count": 57,
   "metadata": {},
   "outputs": [
    {
     "data": {
      "text/plain": [
       "0.6331693889529824"
      ]
     },
     "execution_count": 57,
     "metadata": {},
     "output_type": "execute_result"
    }
   ],
   "source": [
    "accuracy_score(Y_test, Y_pred)"
   ]
  },
  {
   "cell_type": "code",
   "execution_count": 58,
   "metadata": {},
   "outputs": [
    {
     "name": "stdout",
     "output_type": "stream",
     "text": [
      "Train/Test split results:\n",
      "ROC 0.5820788397984927\n"
     ]
    },
    {
     "name": "stderr",
     "output_type": "stream",
     "text": [
      "C:\\Users\\MANDY\\Anaconda3\\lib\\site-packages\\sklearn\\linear_model\\_logistic.py:940: ConvergenceWarning: lbfgs failed to converge (status=1):\n",
      "STOP: TOTAL NO. of ITERATIONS REACHED LIMIT.\n",
      "\n",
      "Increase the number of iterations (max_iter) or scale the data as shown in:\n",
      "    https://scikit-learn.org/stable/modules/preprocessing.html\n",
      "Please also refer to the documentation for alternative solver options:\n",
      "    https://scikit-learn.org/stable/modules/linear_model.html#logistic-regression\n",
      "  extra_warning_msg=_LOGISTIC_SOLVER_CONVERGENCE_MSG)\n"
     ]
    }
   ],
   "source": [
    "logreg = LogisticRegression(random_state=0, class_weight='balanced')\n",
    "logreg.fit(X_train, Y_train)\n",
    "Y_pred = logreg.predict(X_test)\n",
    "\n",
    "#Y_pred_proba = logreg.predict_proba(X_test)\n",
    "\n",
    "print('Train/Test split results:')\n",
    "#print(logreg.__class__.__name__+\" accuracy is %2.3f\" % accuracy_score(Y_test, Y_pred))\n",
    "print(\"ROC\",  roc_auc_score(Y_test, Y_pred))"
   ]
  },
  {
   "cell_type": "code",
   "execution_count": 59,
   "metadata": {},
   "outputs": [
    {
     "data": {
      "text/plain": [
       "0.6319954662294817"
      ]
     },
     "execution_count": 59,
     "metadata": {},
     "output_type": "execute_result"
    }
   ],
   "source": [
    "accuracy_score(Y_test, Y_pred)"
   ]
  },
  {
   "cell_type": "code",
   "execution_count": 13,
   "metadata": {},
   "outputs": [],
   "source": [
    "from imblearn.over_sampling import SMOTE"
   ]
  },
  {
   "cell_type": "code",
   "execution_count": 60,
   "metadata": {},
   "outputs": [],
   "source": [
    "sm = SMOTE(random_state = 0)\n",
    "X_train_res,y_train_res= sm.fit_sample(X_train, Y_train)"
   ]
  },
  {
   "cell_type": "markdown",
   "metadata": {},
   "source": [
    "### implement after SMOTE"
   ]
  },
  {
   "cell_type": "code",
   "execution_count": 61,
   "metadata": {},
   "outputs": [
    {
     "name": "stdout",
     "output_type": "stream",
     "text": [
      "Train/Test split results:\n",
      "ROC 0.5824054463249667\n"
     ]
    },
    {
     "name": "stderr",
     "output_type": "stream",
     "text": [
      "C:\\Users\\MANDY\\Anaconda3\\lib\\site-packages\\sklearn\\linear_model\\_logistic.py:940: ConvergenceWarning: lbfgs failed to converge (status=1):\n",
      "STOP: TOTAL NO. of ITERATIONS REACHED LIMIT.\n",
      "\n",
      "Increase the number of iterations (max_iter) or scale the data as shown in:\n",
      "    https://scikit-learn.org/stable/modules/preprocessing.html\n",
      "Please also refer to the documentation for alternative solver options:\n",
      "    https://scikit-learn.org/stable/modules/linear_model.html#logistic-regression\n",
      "  extra_warning_msg=_LOGISTIC_SOLVER_CONVERGENCE_MSG)\n"
     ]
    }
   ],
   "source": [
    "logreg = LogisticRegression(random_state=0, class_weight='balanced')\n",
    "logreg.fit(X_train_res,y_train_res)\n",
    "Y_pred = logreg.predict(X_test)\n",
    "\n",
    "#Y_pred_proba = logreg.predict_proba(X_test)\n",
    "\n",
    "print('Train/Test split results:')\n",
    "#print(logreg.__class__.__name__+\" accuracy is %2.3f\" % accuracy_score(Y_test, Y_pred))\n",
    "print(\"ROC\",  roc_auc_score(Y_test, Y_pred))"
   ]
  },
  {
   "cell_type": "code",
   "execution_count": null,
   "metadata": {},
   "outputs": [],
   "source": [
    "#### Use l2 penalaty "
   ]
  },
  {
   "cell_type": "code",
   "execution_count": 67,
   "metadata": {},
   "outputs": [
    {
     "name": "stdout",
     "output_type": "stream",
     "text": [
      "Train/Test split results:\n",
      "ROC 0.5\n"
     ]
    },
    {
     "name": "stderr",
     "output_type": "stream",
     "text": [
      "C:\\Users\\MANDY\\Anaconda3\\lib\\site-packages\\sklearn\\linear_model\\_logistic.py:940: ConvergenceWarning: lbfgs failed to converge (status=1):\n",
      "STOP: TOTAL NO. of ITERATIONS REACHED LIMIT.\n",
      "\n",
      "Increase the number of iterations (max_iter) or scale the data as shown in:\n",
      "    https://scikit-learn.org/stable/modules/preprocessing.html\n",
      "Please also refer to the documentation for alternative solver options:\n",
      "    https://scikit-learn.org/stable/modules/linear_model.html#logistic-regression\n",
      "  extra_warning_msg=_LOGISTIC_SOLVER_CONVERGENCE_MSG)\n"
     ]
    }
   ],
   "source": [
    "logreg = LogisticRegression(penalty='l2')\n",
    "logreg.fit(X_train, Y_train)\n",
    "Y_pred = logreg.predict(X_test)\n",
    "\n",
    "#Y_pred_proba = logreg.predict_proba(X_test)\n",
    "\n",
    "print('Train/Test split results:')\n",
    "#print(logreg.__class__.__name__+\" accuracy is %2.3f\" % accuracy_score(Y_test, Y_pred))\n",
    "print(\"ROC\",  roc_auc_score(Y_test, Y_pred))"
   ]
  },
  {
   "cell_type": "code",
   "execution_count": 68,
   "metadata": {},
   "outputs": [
    {
     "data": {
      "text/plain": [
       "0.9220667767738593"
      ]
     },
     "execution_count": 68,
     "metadata": {},
     "output_type": "execute_result"
    }
   ],
   "source": [
    "accuracy_score(Y_test, Y_pred)"
   ]
  },
  {
   "cell_type": "code",
   "execution_count": 69,
   "metadata": {},
   "outputs": [
    {
     "data": {
      "text/plain": [
       "array([[56945,     0],\n",
       "       [ 4813,     0]], dtype=int64)"
      ]
     },
     "execution_count": 69,
     "metadata": {},
     "output_type": "execute_result"
    }
   ],
   "source": [
    "from sklearn.metrics import confusion_matrix\n",
    "confusion_matrix(Y_test, Y_pred)"
   ]
  },
  {
   "cell_type": "code",
   "execution_count": 7,
   "metadata": {},
   "outputs": [],
   "source": [
    "import pandas as pd\n",
    "\n",
    "# Calculate information value\n",
    "def calc_iv(df, feature, target, pr=0):\n",
    "\n",
    "    lst = []\n",
    "\n",
    "    for i in range(df[feature].nunique()):\n",
    "        val = list(df[feature].unique())[i]\n",
    "        lst.append([feature, val, df[df[feature] == val].count()[feature], df[(df[feature] == val) & (df[target] == 1)].count()[feature]])\n",
    "\n",
    "    data = pd.DataFrame(lst, columns=['Variable', 'Value', 'All', 'Bad'])\n",
    "    data = data[data['Bad'] > 0]\n",
    "\n",
    "    data['Share'] = data['All'] / data['All'].sum()\n",
    "    data['Bad Rate'] = data['Bad'] / data['All']\n",
    "    data['Distribution Good'] = (data['All'] - data['Bad']) / (data['All'].sum() - data['Bad'].sum())\n",
    "    data['Distribution Bad'] = data['Bad'] / data['Bad'].sum()\n",
    "    data['WoE'] = np.log(data['Distribution Good'] / data['Distribution Bad'])\n",
    "    data['IV'] = (data['WoE'] * (data['Distribution Good'] - data['Distribution Bad'])).sum()\n",
    "\n",
    "    data = data.sort_values(by=['Variable', 'Value'], ascending=True)\n",
    "\n",
    "    if pr == 1:\n",
    "        print(data)\n",
    "\n",
    "    return data['IV'].values[0]"
   ]
  }
 ],
 "metadata": {
  "kernelspec": {
   "display_name": "Python 3",
   "language": "python",
   "name": "python3"
  },
  "language_info": {
   "codemirror_mode": {
    "name": "ipython",
    "version": 3
   },
   "file_extension": ".py",
   "mimetype": "text/x-python",
   "name": "python",
   "nbconvert_exporter": "python",
   "pygments_lexer": "ipython3",
   "version": "3.7.4"
  }
 },
 "nbformat": 4,
 "nbformat_minor": 2
}
